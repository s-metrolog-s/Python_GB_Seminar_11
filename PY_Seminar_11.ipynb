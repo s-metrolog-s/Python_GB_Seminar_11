{
 "cells": [
  {
   "cell_type": "markdown",
   "id": "0030cd12",
   "metadata": {},
   "source": [
    "# Дана функция \n",
    "## f(x) = 5x^2 + 10x - 30\n",
    "1. Определить корни\n",
    "2. Найти интервалы, на которых функция возрастает\n",
    "3. Найти интервалы, на которых функция убывает\n",
    "4. Построить график\n",
    "5. Вычислить вершину\n",
    "6. Определить промежутки, на котором f > 0\n",
    "7. Определить промежутки, на котором f < 0"
   ]
  },
  {
   "cell_type": "code",
   "execution_count": 1,
   "id": "5938ba33",
   "metadata": {},
   "outputs": [
    {
     "name": "stdout",
     "output_type": "stream",
     "text": [
      "-3.6457513110645907 1.6457513110645905\n"
     ]
    }
   ],
   "source": [
    "a = 5\n",
    "b = 10\n",
    "c = -30\n",
    "d = b**2 - 4*a*c\n",
    "x1 = (-b - d**0.5)/(2*a)\n",
    "x2 = (-b + d**0.5)/(2*a)\n",
    "print(x1, x2)"
   ]
  },
  {
   "cell_type": "code",
   "execution_count": 8,
   "id": "f6e34605",
   "metadata": {},
   "outputs": [
    {
     "name": "stdout",
     "output_type": "stream",
     "text": [
      "[-1 + sqrt(7), -sqrt(7) - 1]\n"
     ]
    }
   ],
   "source": [
    "from sympy import *\n",
    "\n",
    "x = symbols('x')\n",
    "print(solve(5*x**2 + 10*x - 30))"
   ]
  },
  {
   "cell_type": "code",
   "execution_count": 9,
   "id": "075b4f71",
   "metadata": {},
   "outputs": [
    {
     "name": "stdout",
     "output_type": "stream",
     "text": [
      "Функция убывает на промежутке (-∞;-1), возрастает на промежутке -1;∞)\n",
      "Вершиной является (-1;-35)\n"
     ]
    }
   ],
   "source": [
    "x = symbols('x')\n",
    "f = 5*x**2 + 10*x - 30\n",
    "\n",
    "dir_f = solve(f.diff(x))\n",
    "dir_y = 5*dir_f[0]**2 + 10*dir_f[0] - 30\n",
    "\n",
    "# print(5*f_y**2 + 10*f_y - 30)\n",
    "print(f'Функция убывает на промежутке (-∞;{dir_f[0]}), возрастает на промежутке {dir_f[0]};∞)')\n",
    "print(f'Вершиной является ({dir_f[0]};{dir_y})')"
   ]
  },
  {
   "cell_type": "code",
   "execution_count": 11,
   "id": "801ec0d5",
   "metadata": {},
   "outputs": [
    {
     "data": {
      "image/png": "[encoded data removed]",
      "text/plain": [
       "<Figure size 432x288 with 1 Axes>"
      ]
     },
     "metadata": {
      "needs_background": "light"
     },
     "output_type": "display_data"
    }
   ],
   "source": [
    "import numpy as np\n",
    "import matplotlib.pyplot as plt\n",
    "\n",
    "y = lambda x: 5*x**2 + 10*x - 30\n",
    "fig = plt.subplots()\n",
    "x = np.linspace(-10, 10, 50)\n",
    "plt.plot(x, y(x))\n",
    "plt.grid(axis = 'both')\n",
    "plt.show()"
   ]
  }
 ],
 "metadata": {
  "kernelspec": {
   "display_name": "Python 3 (ipykernel)",
   "language": "python",
   "name": "python3"
  },
  "language_info": {
   "codemirror_mode": {
    "name": "ipython",
    "version": 3
   },
   "file_extension": ".py",
   "mimetype": "text/x-python",
   "name": "python",
   "nbconvert_exporter": "python",
   "pygments_lexer": "ipython3",
   "version": "3.9.12"
  }
 },
 "nbformat": 4,
 "nbformat_minor": 5
}
